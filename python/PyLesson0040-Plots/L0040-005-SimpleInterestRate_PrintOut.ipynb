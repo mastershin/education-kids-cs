{
 "cells": [
  {
   "cell_type": "code",
   "execution_count": 6,
   "metadata": {},
   "outputs": [
    {
     "name": "stdout",
     "output_type": "stream",
     "text": [
      "[1000, 1100.0, 1210.0, 1331.0, 1464.1, 1610.51, 1771.561, 1948.7170999999998, 2143.5888099999997, 2357.947691, 2593.7424601]\n"
     ]
    }
   ],
   "source": [
    "# Define the variables\n",
    "initial_investment = 1000  # Initial amount (e.g., $10,000)\n",
    "annual_interest_rate = 0.10  # Annual interest rate (e.g., 5%)\n",
    "\n",
    "years = 10  # Number of years\n",
    "\n",
    "# Calculate compound interest\n",
    "amounts = [initial_investment]\n",
    "for year in range(1, years + 1):\n",
    "  last_year = amounts[-1]\n",
    "  new_amount = last_year + last_year * annual_interest_rate\n",
    "  amounts.append(new_amount)\n",
    "  \n",
    "print(amounts)"
   ]
  }
 ],
 "metadata": {
  "kernelspec": {
   "display_name": "Python 3",
   "language": "python",
   "name": "python3"
  },
  "language_info": {
   "codemirror_mode": {
    "name": "ipython",
    "version": 3
   },
   "file_extension": ".py",
   "mimetype": "text/x-python",
   "name": "python",
   "nbconvert_exporter": "python",
   "pygments_lexer": "ipython3",
   "version": "3.11.6"
  }
 },
 "nbformat": 4,
 "nbformat_minor": 2
}
